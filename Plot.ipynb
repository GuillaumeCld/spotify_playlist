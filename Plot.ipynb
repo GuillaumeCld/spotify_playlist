{
 "cells": [
  {
   "cell_type": "code",
   "execution_count": 2,
   "id": "569dd41c",
   "metadata": {
    "slideshow": {
     "slide_type": "-"
    }
   },
   "outputs": [],
   "source": [
    "import pandas as pd\n",
    "import matplotlib.pyplot as plt\n",
    "import pickle "
   ]
  },
  {
   "cell_type": "code",
   "execution_count": 3,
   "id": "fe1b19cf",
   "metadata": {},
   "outputs": [
    {
     "name": "stdout",
     "output_type": "stream",
     "text": [
      "<class 'pandas.core.frame.DataFrame'>\n",
      "RangeIndex: 870 entries, 0 to 869\n",
      "Data columns (total 4 columns):\n",
      " #   Column      Non-Null Count  Dtype \n",
      "---  ------      --------------  ----- \n",
      " 0   artistName  870 non-null    object\n",
      " 1   sPlayed     870 non-null    int64 \n",
      " 2   count       870 non-null    int64 \n",
      " 3   genres      870 non-null    object\n",
      "dtypes: int64(2), object(2)\n",
      "memory usage: 27.3+ KB\n",
      "None\n"
     ]
    }
   ],
   "source": [
    "df_tracks = pd.read_csv('MyData/output/only_artists.csv')\n",
    "\n",
    "\n",
    "print(df_tracks.info())"
   ]
  },
  {
   "cell_type": "code",
   "execution_count": 4,
   "id": "8c897e3c",
   "metadata": {
    "scrolled": true
   },
   "outputs": [
    {
     "name": "stdout",
     "output_type": "stream",
     "text": [
      "656\n",
      "dict_values([89, 55, 21, 27, 14, 9, 1, 1, 2, 2, 1, 1, 1, 76, 23, 58, 17, 108, 5, 1, 1, 1, 63, 1, 7, 8, 2, 3, 19, 3, 16, 10, 54, 1, 13, 10, 78, 37, 11, 9, 43, 42, 83, 4, 1, 15, 1, 2, 1, 26, 3, 14, 1, 1, 1, 1, 1, 3, 15, 4, 6, 18, 1, 6, 15, 23, 7, 8, 29, 10, 31, 17, 25, 7, 20, 55, 8, 1, 2, 3, 2, 1, 1, 4, 1, 1, 3, 3, 1, 6, 5, 6, 1, 9, 13, 2, 2, 2, 24, 1, 6, 7, 3, 1, 3, 1, 6, 2, 17, 10, 1, 1, 2, 3, 3, 10, 15, 5, 12, 14, 28, 6, 17, 26, 29, 20, 1, 1, 1, 2, 10, 6, 11, 15, 1, 1, 1, 2, 1, 2, 6, 2, 1, 5, 1, 11, 1, 1, 3, 1, 9, 6, 1, 2, 3, 20, 1, 1, 1, 1, 4, 30, 7, 1, 11, 3, 17, 4, 8, 3, 22, 3, 1, 3, 2, 2, 1, 1, 10, 1, 4, 2, 3, 3, 2, 7, 1, 5, 1, 11, 3, 8, 2, 19, 11, 1, 1, 1, 1, 2, 2, 5, 2, 2, 4, 17, 4, 2, 11, 3, 4, 3, 3, 2, 12, 2, 26, 21, 2, 3, 2, 7, 1, 1, 1, 3, 23, 1, 1, 2, 10, 5, 1, 3, 1, 1, 7, 7, 1, 1, 4, 2, 1, 1, 2, 1, 5, 3, 6, 3, 1, 2, 1, 1, 1, 4, 1, 2, 2, 1, 5, 5, 2, 2, 2, 5, 2, 3, 1, 1, 3, 5, 7, 1, 2, 1, 11, 2, 23, 11, 16, 11, 6, 1, 2, 1, 2, 1, 1, 1, 3, 4, 7, 2, 1, 5, 3, 1, 1, 1, 4, 3, 3, 4, 1, 1, 2, 1, 1, 4, 1, 3, 2, 2, 1, 4, 1, 2, 2, 7, 10, 13, 1, 1, 8, 1, 1, 1, 1, 3, 5, 3, 5, 4, 2, 1, 6, 2, 4, 2, 2, 5, 5, 2, 4, 2, 2, 1, 1, 1, 8, 1, 1, 6, 2, 6, 2, 1, 4, 2, 5, 1, 3, 3, 1, 1, 9, 5, 1, 1, 1, 1, 1, 3, 2, 4, 1, 1, 1, 4, 3, 1, 1, 1, 3, 1, 1, 3, 2, 1, 1, 3, 2, 2, 2, 3, 3, 3, 4, 2, 1, 8, 2, 1, 2, 2, 4, 3, 1, 1, 2, 1, 3, 2, 2, 2, 2, 4, 1, 1, 2, 1, 1, 1, 1, 1, 1, 1, 1, 2, 1, 1, 1, 2, 4, 1, 1, 6, 1, 4, 1, 2, 1, 4, 3, 1, 3, 4, 3, 1, 1, 1, 2, 2, 3, 2, 3, 4, 4, 1, 1, 1, 1, 2, 3, 3, 2, 2, 1, 4, 1, 1, 2, 1, 2, 1, 1, 1, 1, 1, 1, 2, 2, 1, 1, 1, 1, 1, 1, 3, 3, 1, 1, 2, 1, 1, 1, 4, 1, 1, 1, 1, 1, 1, 1, 2, 1, 1, 3, 4, 1, 1, 1, 1, 1, 1, 1, 1, 1, 1, 1, 1, 1, 1, 1, 1, 1, 1, 1, 1, 1, 1, 2, 1, 1, 2, 1, 1, 1, 1, 1, 1, 1, 1, 1, 1, 1, 3, 1, 1, 2, 1, 1, 1, 1, 2, 1, 1, 1, 1, 1, 1, 1, 1, 1, 1, 2, 1, 1, 2, 2, 2, 1, 1, 1, 1, 1, 1, 1, 1, 1, 2, 1, 1, 2, 1, 1, 1, 2, 1, 1, 1, 1, 1, 1, 1, 1, 3, 1, 1, 1, 1, 1, 1, 1, 1, 2, 1, 1, 1, 1, 1, 1, 1, 1, 1, 1, 1, 1, 1, 2, 1, 1, 1, 1, 1, 1, 1, 1, 1, 1, 1, 1, 1, 1, 1, 1, 1, 1, 1, 1, 1, 1, 1, 1, 1, 1, 1, 1, 1, 1, 1, 1, 1, 1, 1])\n"
     ]
    }
   ],
   "source": [
    "with open(\"MyData/dict_genres.pkl\", \"rb\") as file:\n",
    "    dict_count_genres = pickle.load(file)\n",
    "    \n",
    "print(len(dict_count_genres))\n",
    "print(dict_count_genres.values())"
   ]
  },
  {
   "cell_type": "code",
   "execution_count": 5,
   "id": "86a4c526",
   "metadata": {
    "scrolled": false
   },
   "outputs": [
    {
     "data": {
      "text/plain": [
       "{'rock': 108,\n",
       " '': 89,\n",
       " 'video game music': 83,\n",
       " 'metal': 78,\n",
       " 'alternative metal': 76,\n",
       " 'hard rock': 63,\n",
       " 'nu metal': 58,\n",
       " 'french hip hop': 55,\n",
       " 'classic rock': 55,\n",
       " 'album rock': 54,\n",
       " 'epicore': 43,\n",
       " 'scorecore': 42,\n",
       " 'power metal': 37,\n",
       " 'french rock': 31,\n",
       " 'background jazz': 30,\n",
       " 'chanson': 29,\n",
       " 'mellow gold': 29,\n",
       " 'adult standards': 28,\n",
       " 'rap inde': 27,\n",
       " 'progressive metal': 26,\n",
       " 'lounge': 26,\n",
       " 'art rock': 26,\n",
       " 'soundtrack': 25,\n",
       " 'indie game soundtrack': 24,\n",
       " 'alternative rock': 23,\n",
       " 'rap conscient': 23,\n",
       " 'otacore': 23,\n",
       " 'folk rock': 23,\n",
       " 'neo classical metal': 22,\n",
       " 'french pop': 21,\n",
       " 'soft rock': 21,\n",
       " 'blues rock': 20,\n",
       " 'vocal jazz': 20,\n",
       " 'permanent wave': 20,\n",
       " 'old school rap francais': 19,\n",
       " 'modern rock': 19,\n",
       " 'symphonic metal': 18,\n",
       " 'rap rock': 17,\n",
       " 'nouvelle chanson francaise': 17,\n",
       " 'pop urbaine': 17,\n",
       " 'easy listening': 17,\n",
       " 'melodic death metal': 17,\n",
       " 'soul': 17,\n",
       " 'classical': 16,\n",
       " 'roots rock': 16,\n",
       " 'post-grunge': 15,\n",
       " 'gothic metal': 15,\n",
       " 'french reggae': 15,\n",
       " 'indie rock': 15,\n",
       " 'rap metal': 15,\n",
       " 'industrial metal': 14,\n",
       " 'medieval folk': 14,\n",
       " 'contemporary country': 14,\n",
       " 'german metal': 13,\n",
       " 'indie folk': 13,\n",
       " 'symphonic rock': 13,\n",
       " 'stomp and holler': 12,\n",
       " 'melodic metal': 12,\n",
       " 'speed metal': 11,\n",
       " 'old school thrash': 11,\n",
       " 'finnish metal': 11,\n",
       " 'japanese vgm': 11,\n",
       " 'swedish metal': 11,\n",
       " 'death metal': 11,\n",
       " 'groove metal': 11,\n",
       " 'folk metal': 11,\n",
       " 'psychedelic rock': 11,\n",
       " 'country rock': 11,\n",
       " 'early modern classical': 10,\n",
       " 'glam metal': 10,\n",
       " 'french indie pop': 10,\n",
       " 'rap francais': 10,\n",
       " 'indie pop': 10,\n",
       " 'neoclassical darkwave': 10,\n",
       " 'new french touch': 10,\n",
       " 'middle earth': 10,\n",
       " 'progressive rock': 10,\n",
       " 'industrial rock': 9,\n",
       " 'thrash metal': 9,\n",
       " 'freak folk': 9,\n",
       " 'melodic metalcore': 9,\n",
       " 'finnish melodeath': 9,\n",
       " 'punk': 8,\n",
       " 'anime score': 8,\n",
       " 'electric blues': 8,\n",
       " 'german power metal': 8,\n",
       " 'viking metal': 8,\n",
       " 'rap calme': 8,\n",
       " 'doom metal': 8,\n",
       " 'finnish death metal': 8,\n",
       " 'pop punk': 7,\n",
       " 'rap marseille': 7,\n",
       " 'blues': 7,\n",
       " 'comic metal': 7,\n",
       " 'calming instrumental': 7,\n",
       " 'black metal': 7,\n",
       " 'swing': 7,\n",
       " 'heartland rock': 7,\n",
       " 'singer-songwriter': 7,\n",
       " 'post-romantic era': 7,\n",
       " 'swedish progressive metal': 7,\n",
       " 'glam rock': 7,\n",
       " 'opera metal': 6,\n",
       " 'wrestling': 6,\n",
       " 'art pop': 6,\n",
       " 'chamber psych': 6,\n",
       " 'comic': 6,\n",
       " 'funk metal': 6,\n",
       " 'brill building pop': 6,\n",
       " 'rune folk': 6,\n",
       " 'electronica': 6,\n",
       " 'metalcore': 6,\n",
       " 'darksynth': 6,\n",
       " 'folk': 6,\n",
       " 'francoton': 6,\n",
       " 'british invasion': 6,\n",
       " 'indie jazz': 6,\n",
       " 'pop rock': 6,\n",
       " 'supergroup': 5,\n",
       " 'chamber pop': 5,\n",
       " 'melancholia': 5,\n",
       " 'bow pop': 5,\n",
       " 'pagan black metal': 5,\n",
       " 'classic soundtrack': 5,\n",
       " 'modern blues rock': 5,\n",
       " 'country pop': 5,\n",
       " 'country': 5,\n",
       " 'country road': 5,\n",
       " 'chiptune': 5,\n",
       " 'impressionism': 5,\n",
       " 'funk': 5,\n",
       " 'canadian metal': 5,\n",
       " 'avant-garde metal': 5,\n",
       " 'norwegian metal': 5,\n",
       " 'symphonic black metal': 5,\n",
       " 'neue deutsche harte': 5,\n",
       " 'nordic folk metal': 5}"
      ]
     },
     "execution_count": 5,
     "metadata": {},
     "output_type": "execute_result"
    }
   ],
   "source": [
    "dict_new = dict(filter(lambda x: x[1] > 4, dict_count_genres.items()))\n",
    "dict(sorted(dict_new.items(), key=lambda item: item[1], reverse=True))"
   ]
  },
  {
   "cell_type": "code",
   "execution_count": 6,
   "id": "51b6993c",
   "metadata": {
    "scrolled": true
   },
   "outputs": [
    {
     "data": {
      "image/png": "[encoded data removed]",
      "text/plain": [
       "<Figure size 640x480 with 1 Axes>"
      ]
     },
     "metadata": {},
     "output_type": "display_data"
    }
   ],
   "source": [
    "plt.bar(dict_count_genres.keys(), dict_count_genres.values(), width=1.0, color='g')\n",
    "plt.show()"
   ]
  }
 ],
 "metadata": {
  "kernelspec": {
   "display_name": "Python 3",
   "language": "python",
   "name": "python3"
  },
  "language_info": {
   "codemirror_mode": {
    "name": "ipython",
    "version": 3
   },
   "file_extension": ".py",
   "mimetype": "text/x-python",
   "name": "python",
   "nbconvert_exporter": "python",
   "pygments_lexer": "ipython3",
   "version": "3.8.5"
  }
 },
 "nbformat": 4,
 "nbformat_minor": 5
}
